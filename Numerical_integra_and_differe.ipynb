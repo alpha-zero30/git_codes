{
 "cells": [
  {
   "cell_type": "markdown",
   "id": "34b413f0",
   "metadata": {},
   "source": [
    "# Question 1\n",
    "\n",
    "$$ f(x) = sin(x)\\, at\\, x = 2\\pi / 5$$\n",
    "$$ find \\, f^{'}(x) $$"
   ]
  },
  {
   "cell_type": "markdown",
   "id": "f4f34b9a",
   "metadata": {},
   "source": [
    "f ′n ≈ (fn+1 − fn)/h"
   ]
  },
  {
   "cell_type": "code",
   "execution_count": 21,
   "id": "94324523",
   "metadata": {},
   "outputs": [
    {
     "name": "stdout",
     "output_type": "stream",
     "text": [
      "S.No   Step Size    Forward Diff    Backward Diff   Central Diff    Five-Point Diff\n",
      "0     0.50000000   0.06344947      0.52915308      0.29630128      0.30839209     \n",
      "1     0.20000000   0.21217194      0.40175005      0.30696100      0.30900059     \n",
      "2     0.10000000   0.26098901      0.35601544      0.30850222      0.30901597     \n",
      "3     0.05000000   0.28511679      0.33265971      0.30888825      0.30901693     \n",
      "4     0.02000000   0.29948615      0.31850664      0.30899639      0.30901699     \n",
      "5     0.01000000   0.30425660      0.31376709      0.30901184      0.30901699     \n",
      "6     0.00500000   0.30663807      0.31139334      0.30901571      0.30901699     \n",
      "7     0.00200000   0.30806573      0.30996784      0.30901679      0.30901699     \n",
      "8     0.00100000   0.30854141      0.30949247      0.30901694      0.30901699     \n",
      "9     0.00050000   0.30877922      0.30925475      0.30901698      0.30901699     \n",
      "10    0.00020000   0.30892189      0.30911210      0.30901699      0.30901699     \n",
      "11    0.00010000   0.30896944      0.30906455      0.30901699      0.30901699     \n"
     ]
    }
   ],
   "source": [
    "import numpy as np\n",
    "\n",
    "def f(x):\n",
    "    return np.sin(x)\n",
    "\n",
    "def forward_diff(f, x, h):\n",
    "    return (f(x + h) - f(x)) / h\n",
    "\n",
    "def backward_diff(f, x, h):\n",
    "    return (f(x) - f(x - h)) / h\n",
    "\n",
    "def central_diff(f, x, h):\n",
    "    return (f(x + h) - f(x - h)) / (2 * h)\n",
    "\n",
    "def fivepoint(f, x, h):\n",
    "    return (f(x - 2 * h) - 8 * f(x - h) + 8 * f(x + h) - f(x + 2 * h)) / (12 * h)\n",
    "\n",
    "x = 2 * np.pi / 5\n",
    "hs = [0.5, 0.2, 0.1, 0.05, 0.02, 0.01, 0.005, 0.002, 0.001, 0.0005, 0.0002, 0.0001]\n",
    "\n",
    "# Print header with improved spacing\n",
    "print(f\"{'S.No':<6} {'Step Size':<12} {'Forward Diff':<15} {'Backward Diff':<15} {'Central Diff':<15} {'Five-Point Diff':<15}\")\n",
    "\n",
    "# Print values with proper alignment\n",
    "for i, h in enumerate(hs):\n",
    "    print(f\"{i:<5} {h:<12.8f} {forward_diff(f, x, h):<15.8f} {backward_diff(f, x, h):<15.8f} {central_diff(f, x, h):<15.8f} {fivepoint(f, x, h):<15.8f}\")\n"
   ]
  },
  {
   "cell_type": "code",
   "execution_count": null,
   "id": "79048b22",
   "metadata": {},
   "outputs": [],
   "source": []
  },
  {
   "cell_type": "markdown",
   "id": "a5d1ec7c",
   "metadata": {},
   "source": [
    "# Question 2\n",
    "$$ \\int_{0}^{1} e^x \\,dx    $$\n",
    "\n",
    " R x3\n",
    "x1 f (x)dx = h\n",
    "2 (f1 + 2f2 + f3) + O(h3)"
   ]
  },
  {
   "cell_type": "code",
   "execution_count": 64,
   "id": "0b569fff",
   "metadata": {},
   "outputs": [
    {
     "name": "stdout",
     "output_type": "stream",
     "text": [
      "1.718639788925221  1.718281888103857 1.718282032912922 1.718281828515792\n",
      "1.718285408211363  1.718281828465012 1.718281828473020 1.718281828459046\n",
      "1.718281864256583  1.718281828459046 1.718281828459047 1.718281828459046\n",
      "1.718281828817021  1.718281828459046 1.718281828459046 1.718281828459046\n"
     ]
    }
   ],
   "source": [
    "def f(x):\n",
    "    return np.exp(x)\n",
    "                                 # no of points = N  no of subintervals = N-1   it should match wiht subintervals of method\n",
    "lims = np.asarray([0,1])\n",
    "Ns = [20, 200, 2000, 20000]\n",
    "\n",
    "def lin(f,lim,N):\n",
    "    \n",
    "    if (N-1)%2 ==0:\n",
    "        N = N\n",
    "    else : \n",
    "        N = N+1\n",
    "        \n",
    "    h = (lim[1]-lim[0])/(N-1)\n",
    "    xs = np.arange(lim[0],lim[1]+h,h)\n",
    "    ys = f(xs)\n",
    "    \n",
    "    return 0.5*h*(ys[0]+ys[-1] + 2*np.sum(ys[1:-1:1]))\n",
    "\n",
    "\n",
    "def quadratic(f,lim,N):\n",
    "    if (N-1)%2 ==0:\n",
    "        N = N\n",
    "    else : \n",
    "        N = N+1\n",
    "\n",
    "    h = (lim[1]-lim[0])/(N-1)\n",
    "    xs = np.arange(lim[0],lim[1]+h,h)\n",
    "    ys = f(xs)\n",
    "    \n",
    "    return (h/3)*(ys[0]+ys[-1] + 4*(np.sum(ys[1:-1:2])) +2*np.sum(ys[2:-1:2]))\n",
    "\n",
    "\n",
    "def cubic(f,lim,N):\n",
    "    if (N-1)%3 ==0:\n",
    "        N = N\n",
    "    elif (N)%3 == 2:\n",
    "        N = N-1\n",
    "    else:\n",
    "        N = N+1\n",
    "        \n",
    "    h = (lim[1]-lim[0])/(N-1)\n",
    "    xs = np.arange(lim[0],lim[1]+h,h)\n",
    "    ys = f(xs) \n",
    "    \n",
    "    return (3*h/8)*(ys[0]+ys[-1]+3*np.sum([ys[1:-1:1]]) -np.sum(ys[3:-1:3]))\n",
    "\n",
    "\n",
    "def quartic(f,lim,N):\n",
    "    if (N-1)%4 ==0:\n",
    "        N = N\n",
    "    elif (N)%4==2:\n",
    "        N = N-1\n",
    "    elif N%4 == 3:\n",
    "        N = N-2\n",
    "    else:\n",
    "        N = N+1\n",
    "      \n",
    "    h = (lim[1]-lim[0])/(N-1)\n",
    "    xs = np.arange(lim[0],lim[1]+h,h)\n",
    "    ys = f(xs)\n",
    "    \n",
    "    return (2*h/45)*(7*(ys[0]+ys[-1]) + 32*np.sum(ys[1:-1:2]) + 12*np.sum(ys[2:-1:4]) + 14*np.sum(ys[4:-1:4]) )\n",
    "\n",
    "for n in Ns:\n",
    "    print(f'{lin(f,lim,n):<15.15f}  {quadratic(f,lim,n):<15.15f} {cubic(f,lim,n):<15.15f} {quartic(f,lim,n):<15.15f}')\n",
    "    \n",
    "    \n",
    "        \n",
    "    \n",
    "    \n",
    "    \n",
    "\n",
    "    "
   ]
  },
  {
   "cell_type": "code",
   "execution_count": 76,
   "id": "ad3e2771",
   "metadata": {},
   "outputs": [
    {
     "name": "stdout",
     "output_type": "stream",
     "text": [
      "1.718639788925221  1.718281888103857 1.718282032912922 1.718281828515792\n",
      "1.718285408211363  1.718281828465012 1.718281828473020 1.718281828459046\n",
      "1.718281864256583  1.718281828459046 1.718281828459047 1.718281828459046\n",
      "1.718281828817021  1.718281828459046 1.718281828459046 1.718281828459046\n",
      "1.718281828462625  1.718281828459046 1.718281828459045 1.718281828459045\n"
     ]
    }
   ],
   "source": [
    "import numpy as np\n",
    "\n",
    "def f(x):\n",
    "    return np.exp(x)\n",
    "                                 # no of points = N, no of subintervals = N-1 (should match with the method)\n",
    "lims = np.asarray([0, 1])\n",
    "Ns = [20, 200, 2000, 20000,200000]\n",
    "\n",
    "def lin(f, lim, N):\n",
    "    # Although the trapezoidal rule works for any number of subintervals,\n",
    "    # here we adjust N to have an even number of subintervals for consistency.\n",
    "    if (N - 1) % 2 == 0:\n",
    "        N = N\n",
    "    else:\n",
    "        N = N + 1\n",
    "\n",
    "    h = (lim[1] - lim[0]) / (N - 1)\n",
    "    # Use linspace to guarantee the last point is included\n",
    "    xs = np.linspace(lim[0], lim[1], N)\n",
    "    ys = f(xs)\n",
    "    \n",
    "    return 0.5 * h * (ys[0] + ys[-1] + 2 * np.sum(ys[1:-1]))\n",
    "\n",
    "def quadratic(f, lim, N):\n",
    "    # Simpson's rule requires an even number of subintervals.\n",
    "    if (N - 1) % 2 == 0:\n",
    "        N = N\n",
    "    else:\n",
    "        N = N + 1\n",
    "\n",
    "    h = (lim[1] - lim[0]) / (N - 1)\n",
    "    xs = np.linspace(lim[0], lim[1], N)\n",
    "    ys = f(xs)\n",
    "    \n",
    "    return (h / 3) * (ys[0] + ys[-1] + 4 * np.sum(ys[1:-1:2]) + 2 * np.sum(ys[2:-1:2]))\n",
    "\n",
    "def cubic(f, lim, N):\n",
    "    # Simpson's 3/8 rule requires that the number of subintervals is a multiple of 3.\n",
    "    if (N - 1) % 3 == 0:\n",
    "        N = N\n",
    "    elif N % 3 == 2:\n",
    "        N = N - 1\n",
    "    else:\n",
    "        N = N + 1\n",
    "        \n",
    "    h = (lim[1] - lim[0]) / (N - 1)\n",
    "    xs = np.linspace(lim[0], lim[1], N)\n",
    "    ys = f(xs) \n",
    "    \n",
    "    # This formulation uses the trick of multiplying all intermediate values by 3\n",
    "    # and then subtracting once the ones at positions that are multiples of 3,\n",
    "    # resulting in coefficients of 3 for non-multiples-of-3 and 2 for multiples-of-3.\n",
    "    return (3 * h / 8) * (ys[0] + ys[-1] + 3 * np.sum(ys[1:-1]) - np.sum(ys[3:-1:3]))\n",
    "\n",
    "def quartic(f, lim, N):\n",
    "    # Boole's rule requires that the number of subintervals is a multiple of 4.\n",
    "    if (N - 1) % 4 == 0:\n",
    "        N = N\n",
    "    elif N % 4 == 2:\n",
    "        N = N - 1\n",
    "    elif N % 4 == 3:\n",
    "        N = N - 2\n",
    "    else:\n",
    "        N = N + 1\n",
    "      \n",
    "    h = (lim[1] - lim[0]) / (N - 1)\n",
    "    xs = np.linspace(lim[0], lim[1], N)\n",
    "    ys = f(xs)\n",
    "    \n",
    "    return (2 * h / 45) * (7 * (ys[0] + ys[-1]) +\n",
    "                           32 * np.sum(ys[1:-1:2]) +\n",
    "                           12 * np.sum(ys[2:-1:4]) +\n",
    "                           14 * np.sum(ys[4:-1:4]))\n",
    "\n",
    "for n in Ns:\n",
    "    print(f'{lin(f, lim, n):<15.15f}  {quadratic(f, lim, n):<15.15f} {cubic(f, lim, n):<15.15f} {quartic(f, lim, n):<15.15f}')\n"
   ]
  },
  {
   "cell_type": "code",
   "execution_count": null,
   "id": "eae4cd6d",
   "metadata": {},
   "outputs": [],
   "source": []
  },
  {
   "cell_type": "code",
   "execution_count": 78,
   "id": "a95f90af",
   "metadata": {},
   "outputs": [
    {
     "name": "stdout",
     "output_type": "stream",
     "text": [
      " 3.6275518991315505\n",
      " 3.6275987245211088\n",
      " 3.6275987284680551\n",
      " 3.6275987284684366\n",
      " 3.6275987284684357\n"
     ]
    }
   ],
   "source": [
    "def g(w):\n",
    "    return 9*(w / ((3 - 3 * w**3 + w**6)**(1.0/3)))\n",
    "\n",
    "for n in Ns:\n",
    "    print(f' {cubic(g, lim, n):<15.16f}')\n",
    "\n"
   ]
  },
  {
   "cell_type": "code",
   "execution_count": 70,
   "id": "1c35d557",
   "metadata": {},
   "outputs": [
    {
     "data": {
      "text/plain": [
       "3.6275987284684357"
      ]
     },
     "execution_count": 70,
     "metadata": {},
     "output_type": "execute_result"
    }
   ],
   "source": [
    "2*np.pi/(3**0.5)"
   ]
  },
  {
   "cell_type": "code",
   "execution_count": null,
   "id": "fed5acbf",
   "metadata": {},
   "outputs": [],
   "source": []
  }
 ],
 "metadata": {
  "kernelspec": {
   "display_name": "Python 3 (ipykernel)",
   "language": "python",
   "name": "python3"
  },
  "language_info": {
   "codemirror_mode": {
    "name": "ipython",
    "version": 3
   },
   "file_extension": ".py",
   "mimetype": "text/x-python",
   "name": "python",
   "nbconvert_exporter": "python",
   "pygments_lexer": "ipython3",
   "version": "3.11.5"
  }
 },
 "nbformat": 4,
 "nbformat_minor": 5
}
